{
 "cells": [
  {
   "cell_type": "markdown",
   "id": "9f2d4e64-3213-4089-b443-6ca85b02076b",
   "metadata": {},
   "source": [
    "**Import essential libraries**"
   ]
  },
  {
   "cell_type": "code",
   "execution_count": 5,
   "id": "7204e00b-9913-4ffc-8e93-51c02dfa2754",
   "metadata": {},
   "outputs": [],
   "source": [
    "import mlflow\n",
    "import mlflow.sklearn\n",
    "from sklearn.ensemble import RandomForestClassifier\n",
    "from sklearn.linear_model import LogisticRegression\n",
    "from xgboost import XGBClassifier\n",
    "from sklearn.model_selection import train_test_split\n",
    "from sklearn.metrics import accuracy_score\n",
    "import joblib\n",
    "import os\n",
    "import pandas as pd\n",
    "import warnings\n",
    "warnings.filterwarnings('ignore')"
   ]
  },
  {
   "cell_type": "markdown",
   "id": "e9ad1ac0-311c-472f-829c-02f47faf1453",
   "metadata": {},
   "source": [
    "**Setup MLflow Tracking URI & Experiment from Root Directory**"
   ]
  },
  {
   "cell_type": "code",
   "execution_count": 6,
   "id": "0b1ca8a2-5b20-4890-bdd0-3e0676800873",
   "metadata": {},
   "outputs": [
    {
     "name": "stderr",
     "output_type": "stream",
     "text": [
      "2025/06/14 18:55:09 INFO mlflow.tracking.fluent: Experiment with name 'MentalHealthExperiment' does not exist. Creating a new experiment.\n"
     ]
    },
    {
     "data": {
      "text/plain": [
       "<Experiment: artifact_location='file:C:/Users/DELL/mental-health-ml/mlruns/169078089252648415', creation_time=1749909308999, experiment_id='169078089252648415', last_update_time=1749909308999, lifecycle_stage='active', name='MentalHealthExperiment', tags={}>"
      ]
     },
     "execution_count": 6,
     "metadata": {},
     "output_type": "execute_result"
    }
   ],
   "source": [
    "if os.getcwd().endswith(\"notebooks\"):\n",
    "    os.chdir(\"..\") \n",
    "# Ensure clean base folder\n",
    "os.makedirs(\"mlruns/.trash\", exist_ok=True)  # ✅ Avoid 'Invalid parent directory' error\n",
    "\n",
    "mlflow.set_tracking_uri(\"file:mlruns\")  # ✅ Correct relative URI from root\n",
    "mlflow.set_experiment(\"MentalHealthExperiment\")  # ✅ Auto-creates if missing"
   ]
  },
  {
   "cell_type": "markdown",
   "id": "cac98ad6-e212-404c-b4a7-06930ac3377a",
   "metadata": {},
   "source": [
    "**5.1 Load Cleaned Dataset and Split Features and Target**"
   ]
  },
  {
   "cell_type": "code",
   "execution_count": 7,
   "id": "3b19c84e-09a5-4599-a257-4af22e28b946",
   "metadata": {},
   "outputs": [],
   "source": [
    "df = pd.read_csv('data/cleaned/cleaned_mental_health.csv')\n",
    "X = df.drop('treatment', axis=1)\n",
    "y = df['treatment']\n",
    "X_train, X_test, y_train, y_test = train_test_split(X, y, test_size=0.2, random_state=42)"
   ]
  },
  {
   "cell_type": "code",
   "execution_count": 8,
   "id": "0ab14cde-a9f9-4be7-b070-9e2569be040d",
   "metadata": {},
   "outputs": [],
   "source": [
    "# Disable MLflow logging warnings (specific to MLflow)\n",
    "import logging\n",
    "logging.getLogger(\"mlflow\").setLevel(logging.ERROR)"
   ]
  },
  {
   "cell_type": "markdown",
   "id": "c115f3d0-8445-4c41-aa8f-12b41e466190",
   "metadata": {},
   "source": [
    "**5.2 Define and Train Models with MLflow Logging**"
   ]
  },
  {
   "cell_type": "code",
   "execution_count": 9,
   "id": "3d668473-3a6f-4316-bbc3-d090b06d5873",
   "metadata": {},
   "outputs": [
    {
     "name": "stdout",
     "output_type": "stream",
     "text": [
      "RandomForest Accuracy: 0.7928\n",
      "LogisticRegression Accuracy: 0.8088\n",
      "XGBoost Accuracy: 0.7849\n"
     ]
    }
   ],
   "source": [
    "\n",
    "models = {\n",
    "    \"RandomForest\": RandomForestClassifier(n_estimators=300, max_depth=15, min_samples_split=4, min_samples_leaf=2, random_state=42),\n",
    "    \"LogisticRegression\": LogisticRegression(max_iter=3000, C=0.05, solver='liblinear'),\n",
    "    \"XGBoost\": XGBClassifier(use_label_encoder=False, eval_metric='logloss', n_estimators=200, max_depth=8, learning_rate=0.05, subsample=0.8)\n",
    "}\n",
    "\n",
    "results = []\n",
    "\n",
    "# Top-level run\n",
    "with mlflow.start_run(run_name=\"All_Model_Comparisons\"):\n",
    "    for name, model in models.items():\n",
    "        with mlflow.start_run(run_name=name, nested=True):  # ✅ nested run\n",
    "            model.fit(X_train, y_train)\n",
    "            preds = model.predict(X_test)\n",
    "            acc = accuracy_score(y_test, preds)\n",
    "\n",
    "            mlflow.sklearn.log_model(model, name, input_example=X_train[:5])\n",
    "            mlflow.log_metric(\"accuracy\", acc)\n",
    "            mlflow.log_params(model.get_params())\n",
    "\n",
    "            results.append((name, acc, model))\n",
    "            print(f\"{name} Accuracy: {acc:.4f}\")"
   ]
  },
  {
   "cell_type": "markdown",
   "id": "0b94ff6e-06ce-4578-91ae-e434c529a360",
   "metadata": {},
   "source": [
    "**5.3 Automatically Select the Best Model**"
   ]
  },
  {
   "cell_type": "code",
   "execution_count": 10,
   "id": "a9b035ce-4c78-487b-a09b-7be7079e9e08",
   "metadata": {},
   "outputs": [
    {
     "name": "stdout",
     "output_type": "stream",
     "text": [
      "\n",
      "✅ Best Model: LogisticRegression with Accuracy: 0.8088\n"
     ]
    }
   ],
   "source": [
    "# Select and log the best model\n",
    "best_model_name, best_accuracy, best_model = max(results, key=lambda x: x[1])\n",
    "\n",
    "with mlflow.start_run(run_name=f\"Best_{best_model_name}\", nested=True):\n",
    "    mlflow.sklearn.log_model(best_model, \"best_model\", input_example=X_train[:5])\n",
    "    mlflow.log_metric(\"best_accuracy\", best_accuracy)\n",
    "    print(f\"\\n✅ Best Model: {best_model_name} with Accuracy: {best_accuracy:.4f}\")"
   ]
  },
  {
   "cell_type": "markdown",
   "id": "85101922-314f-4029-b51f-8925f759f5c1",
   "metadata": {},
   "source": [
    "**5.4 Save Best Model to Disk**"
   ]
  },
  {
   "cell_type": "code",
   "execution_count": 11,
   "id": "04f24351-5654-4ad5-88f8-425d61e1d15e",
   "metadata": {},
   "outputs": [
    {
     "name": "stdout",
     "output_type": "stream",
     "text": [
      "💾 Best model saved to '../models/LogisticRegression_model.pkl'\n"
     ]
    }
   ],
   "source": [
    "os.makedirs(\"../models\", exist_ok=True)\n",
    "joblib.dump(best_model, f\"../models/{best_model_name}_model.pkl\")\n",
    "print(f\"💾 Best model saved to '../models/{best_model_name}_model.pkl'\")"
   ]
  },
  {
   "cell_type": "code",
   "execution_count": null,
   "id": "38b84d25-4a20-4acd-be65-c556b53caa2e",
   "metadata": {},
   "outputs": [],
   "source": []
  }
 ],
 "metadata": {
  "kernelspec": {
   "display_name": "Python 3 (ipykernel)",
   "language": "python",
   "name": "python3"
  },
  "language_info": {
   "codemirror_mode": {
    "name": "ipython",
    "version": 3
   },
   "file_extension": ".py",
   "mimetype": "text/x-python",
   "name": "python",
   "nbconvert_exporter": "python",
   "pygments_lexer": "ipython3",
   "version": "3.13.2"
  }
 },
 "nbformat": 4,
 "nbformat_minor": 5
}
